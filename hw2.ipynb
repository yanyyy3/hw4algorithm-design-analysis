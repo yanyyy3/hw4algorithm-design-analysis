{
 "cells": [
  {
   "cell_type": "markdown",
   "metadata": {},
   "source": [
    "## algorithm design and anlysis-2025 spring  homework 2\n",
    "**Deadline**：2025.5.14\n",
    "\n",
    "**name**: 闫越越 112024321341996\n",
    "\n",
    "\n",
    "note：\n",
    "---\n",
    "1. 带有\\*的题目，申请免上课的同学，必须完成，其他同学选作；\n",
    "2. 请独立完成，如求助了他人或者大模型，请著明，并且不可省略算法分析部分；\n",
    "4. 如若作答有雷同，全部取消成绩；\n",
    "3. 需要书面作答的题目，可以通过引用图片的形式添加，但是注意上传项目时包含所引用的图片的源文件；\n",
    "4. $log_n$ 默认表示$log_2{n}$;"
   ]
  },
  {
   "cell_type": "markdown",
   "metadata": {},
   "source": [
    "## 问题 1  \n",
    "\n",
    "> 给定一个已排序的链表的头 `head` ， *删除所有重复的元素，使每个元素只出现一次* 。返回 *已排序的链表* 。链表的类如下所示：\n",
    "\n",
    "```python\n",
    "class NodeList:\n",
    "    def __init__(self, val=None, right=None):\n",
    "        self.val   = val\n",
    "        self.right = right\n",
    "```\n",
    "\n",
    "输入是一个数组，你首先需要将数组转化为链表，然后删除链表中的重复元素，再遍历链表元素，以一个数组的形式返回。请设计一个算法解决上述任务，分析算法设计思路，计算时间复杂度, 并基于python编程实现。\n",
    "\n",
    "e.g.  输入：head=[1, 1, 2, 3, 3]   输出：[1, 2, 3]\n",
    "\n",
    "![image-20240502110020439](./fig/hw2q1.png)\n",
    "\n"
   ]
  },
  {
   "cell_type": "markdown",
   "metadata": {},
   "source": [
    "##### idea：\n",
    "\n",
    "（1）首先遍历输入数组，依次创建链表节点，并将它们连接起来，构建出链表。\n",
    "\n",
    "（2）删除重复元素。由于链表已经排序，使用两个指针，一个指针prev指向当前节点的前一个节点，另一个指针curr指向当前节点。当curr.val等于prev.va时，说明遇到重复元素，将prev.right指向curr.right，跳过curr节点，实现删除重复元素的操作；若不相等，则同时移动prev和curr指针到下一个节点。\n",
    "\n",
    "（3）再次遍历处理后的链表，将每个节点的值添加到数组中，最后返回该数组。\n",
    "\n",
    "##### 时间复杂度：\n",
    "\n",
    "遍历数组构建链表，时间复杂度为O(n)，n是数组的长度。删除重复元素时间复杂度为O(n)。遍历链表并转换为数组时间复杂度也为O(n)。\n",
    "\n",
    "总时间复杂度为O（n）\n",
    "\n",
    "##### code：\n"
   ]
  },
  {
   "cell_type": "code",
   "execution_count": 19,
   "metadata": {},
   "outputs": [
    {
     "name": "stdout",
     "output_type": "stream",
     "text": [
      "[1, 2, 3]\n"
     ]
    }
   ],
   "source": [
    "# 代码参考deepseek模型\n",
    "class NodeList:\n",
    "    def __init__(self, val=None, right=None):\n",
    "        self.val = val\n",
    "        self.right = right\n",
    "\n",
    "def array_to_linked_list(nums):\n",
    "    if not nums:\n",
    "        return None\n",
    "    head = NodeList(nums[0])\n",
    "    curr = head\n",
    "    for num in nums[1:]:\n",
    "        curr.right = NodeList(num)\n",
    "        curr = curr.right\n",
    "    return head\n",
    "\n",
    "def delete_duplicates(head):\n",
    "    if not head:\n",
    "        return head\n",
    "    prev = head\n",
    "    curr = head.right\n",
    "    while curr:\n",
    "        if curr.val == prev.val:\n",
    "            prev.right = curr.right\n",
    "            curr = curr.right\n",
    "        else:\n",
    "            prev = curr\n",
    "            curr = curr.right\n",
    "    return head\n",
    "\n",
    "def linked_list_to_array(head):\n",
    "    result = []\n",
    "    curr = head\n",
    "    while curr:\n",
    "        result.append(curr.val)\n",
    "        curr = curr.right\n",
    "    return result\n",
    "\n",
    "def process_list(nums):\n",
    "    head = array_to_linked_list(nums)\n",
    "    head = delete_duplicates(head)\n",
    "    return linked_list_to_array(head)\n",
    "\n",
    "####测试用例#############\n",
    "nums = [1, 1, 2, 3, 3]\n",
    "print(process_list(nums))"
   ]
  },
  {
   "cell_type": "markdown",
   "metadata": {},
   "source": [
    "## 问题 2  \n",
    "\n",
    "> 下面是一个经典的算法问题：\n",
    ">\n",
    "> - 给定包含n个整数的一个整数数组 `nums` 和一个整数目标值 `target`，请你在该数组中找出 **和为目标值** *`target`* 的那 **两个** 整数，并返回它们的**数组下标**。假设每种输入只会对应一个答案。但是，数组中同一个元素在答案里不能重复出现。你可以按任意顺序返回答案。\n",
    ">\n",
    "> 由于要多次查找数组中元素的位置，为了提高查询效率可以使用哈希表来存储数组中的数据，在哈希表中查询一个元素的复杂度为O(1)。 已知python中的字典是使用哈希表实现的，即使用`dict[key]`查询对应的value时间复杂度为O(1), python提供了查询字典是否包含某个key的功能：`key in dict`，时间复杂度也是O(1)\n",
    "\n",
    "请根据上面信息，设计一个时间复杂度为O(n) 的算法，解决上述算法问题\n",
    "\n",
    "e.g.   \n",
    "\n",
    "输入：nums=[2,7,11,15], target=9， 输出：[0，1]\n",
    "\n",
    "输入：nums=[3,2,4], target=6, 输出：[1,2]\n",
    "\n",
    "输入：nums=[3,3], target=6,  输出：[0,1]\n"
   ]
  },
  {
   "cell_type": "markdown",
   "metadata": {},
   "source": [
    "###### idea:\n",
    "利用哈希表（Python 中的字典）来存储数组元素及其对应的下标。遍历数组，对于当前元素 nums[i] ，计算 target - nums[i] ，并在哈希表中查找是否存在该差值。如果存在，说明找到了两个数的和为 target ，直接返回这两个数的下标。如果不存在，将当前元素 nums[i] 及其下标 i 存入哈希表，以便后续查找。\n",
    "\n",
    "##### code:"
   ]
  },
  {
   "cell_type": "code",
   "execution_count": 20,
   "metadata": {},
   "outputs": [
    {
     "name": "stdout",
     "output_type": "stream",
     "text": [
      "[0, 1]\n",
      "[1, 2]\n",
      "[0, 1]\n"
     ]
    }
   ],
   "source": [
    "# 代码参考deepseek模型\n",
    "def twoSum(nums, target):\n",
    "    num_dict = {}\n",
    "    for i, num in enumerate(nums):\n",
    "        complement = target - num\n",
    "        if complement in num_dict:\n",
    "            return [num_dict[complement], i]\n",
    "        num_dict[num] = i\n",
    "\n",
    "# 示例调用\n",
    "nums1 = [2, 7, 11, 15]\n",
    "target1 = 9\n",
    "print(twoSum(nums1, target1))\n",
    "\n",
    "nums2 = [3, 2, 4]\n",
    "target2 = 6\n",
    "print(twoSum(nums2, target2))\n",
    "\n",
    "nums3 = [3, 3]\n",
    "target3 = 6\n",
    "print(twoSum(nums3, target3))"
   ]
  },
  {
   "cell_type": "markdown",
   "metadata": {},
   "source": [
    "## 问题 3:   \n",
    "\n",
    "> 栈是一种常用的数据结构，编译器中通常使用栈来实现表达式求值。\n",
    ">\n",
    "> 以表达式 $3+5 \\times 8-6$​ 为例。编译器使用两个栈来完成运算，即一个栈保持操作数，另一个栈保存运算符。\n",
    ">\n",
    "> 1. 从左向右遍历表达式，遇到数字就压入操作数栈；\n",
    ">\n",
    "> 2. 遇到运算符，就与运算符栈的栈顶元素进行比较。如果比运算符栈顶元素的优先级高，就将当前运算符压入栈；如果比运算符栈顶元素的优先级低或者相同，从运算符栈中取栈顶运算符，从操作数栈的栈顶取 2 个操作数，然后进行计算，再把计算完的结果压入操作数栈，继续比较。\n",
    ">\n",
    "> 下图是 $3+5 \\times 8-6$  这个表达式的计算过程：\n",
    "\n",
    "![figure](./fig/hw2q3.png)\n",
    "\n",
    "根据上述原理，请设计一个算法完成表达式的运算，当输入为表达式字符串，返回对应的计算结果。分析算法设计思路，计算时间复杂度，并基于python编程实现\n",
    "\n",
    "**note：**\n",
    "\n",
    "1. 假设输入的表达式只会出现加（“+”），减 “-”， 乘“*”，除 “/” 四个运算符, 表达式中只会出现正整数\n",
    "2. python中` str.isdigit()`函数可以判断字符串str是否为数字，\n",
    "\n",
    "\n",
    "\n",
    "e.g. :\n",
    "---\n",
    "\n",
    "1. 输入：“$3+5 * 8 -6$”   输出：37\n",
    "\n",
    "2. 输入：“$34+13*9 + 44-12/3$”  输出：191"
   ]
  },
  {
   "cell_type": "markdown",
   "metadata": {},
   "source": [
    "##### idea：\n",
    "\n",
    "使用两个栈：values用于存储操作数，ops用于存储运算符。优先级定义：*和/优先级高于+和-\n",
    "\n",
    "处理流程：\n",
    "\n",
    "（1）遇到数字：完整读取后压入values\n",
    "\n",
    "（2）遇到运算符：与ops栈顶比较，按优先级计算\n",
    "\n",
    "（3）表达式结束：清空ops栈完成剩余计算\n",
    "\n",
    "##### 时间复杂度：\n",
    "遍历表达式字符串一次，时间复杂度为 O(n) ，n是表达式字符串的长度。每次进行运算操作（弹出操作数和运算符、计算并压回结果 ）的时间复杂度为常数 O(1) ，所以整体时间复杂度为 O(n) 。\n",
    "\n",
    "##### code："
   ]
  },
  {
   "cell_type": "code",
   "execution_count": 21,
   "metadata": {},
   "outputs": [
    {
     "name": "stdout",
     "output_type": "stream",
     "text": [
      "37\n",
      "191\n"
     ]
    }
   ],
   "source": [
    "# 代码参考deepseek模型\n",
    "def calculate(s: str) -> int:\n",
    "    def compute(vals, ops):\n",
    "        b = vals.pop()\n",
    "        a = vals.pop()\n",
    "        op = ops.pop()\n",
    "        if op == '+': vals.append(a + b)\n",
    "        elif op == '-': vals.append(a - b)\n",
    "        elif op == '*': vals.append(a * b)\n",
    "        elif op == '/': vals.append(a // b)\n",
    "\n",
    "    values = []\n",
    "    ops = []\n",
    "    i = 0\n",
    "    n = len(s)\n",
    "    precedence = {'+':1, '-':1, '*':2, '/':2}\n",
    "\n",
    "    while i < n:\n",
    "        c = s[i]\n",
    "        if c == ' ':\n",
    "            i += 1\n",
    "            continue\n",
    "        if c.isdigit():\n",
    "            num = 0\n",
    "            while i < n and s[i].isdigit():\n",
    "                num = num * 10 + int(s[i])\n",
    "                i += 1\n",
    "            values.append(num)\n",
    "        else:\n",
    "            while ops and precedence[ops[-1]] >= precedence[c]:\n",
    "                compute(values, ops)\n",
    "            ops.append(c)\n",
    "            i += 1\n",
    "    \n",
    "    while ops:\n",
    "        compute(values, ops)\n",
    "    \n",
    "    return values[0]\n",
    "\n",
    "# 测试用例\n",
    "print(calculate(\"3+5*8-6\"))      # 37\n",
    "print(calculate(\"34+13*9+44-12/3\"))  # 191"
   ]
  },
  {
   "cell_type": "markdown",
   "metadata": {},
   "source": [
    "## 问题 4:  \n",
    "\n",
    "> 星球碰撞问题：现有n个星球，在同一条直线上运行，如数组A所示，元素的绝对值表示星球的质量，负数表示星球自右向左运动，正数表示星球自左向右运动，当两个星球相撞的时候，质量小的会消失，大的保持不变，**质量相同的两个星球碰撞后自右向左运动的星球消失，自左向右的星球保持不变**，假设所有星球的速度大小相同。\n",
    ">\n",
    "> $ A=[23,-8, 9, -3, -7, 9, -23, 22] $\n",
    "\n",
    "请设计一个算法模拟星球的运行情况，输出最终的星球存续情况（输出一个数组），分析算法设计思路，计算时间复杂度，并基于python编程实现。\n",
    "\n",
    "e.g.\n",
    "---\n",
    "1.  输入： A=[-3,-6,2,8, 5,-8,9,-2,1]， 输出：[-3, -6, 2, 8, 9, 1]\n",
    "\n",
    "2. 输入：A=[23,-8, 9, -3, -7, 9, -23, 22], 输出：[23, 22]\n",
    "\n"
   ]
  },
  {
   "cell_type": "markdown",
   "metadata": {},
   "source": [
    "#####  idea：利用栈来模拟星球的碰撞过程。\n",
    "\n",
    "当当前星球向左运动（值为负）时，开始处理碰撞情况。此时栈顶元素若向右运动（值为正），则会发生碰撞。比较两者质量（绝对值大小）：\n",
    "若当前星球质量大于栈顶星球质量，栈顶星球消失，继续与新的栈顶元素比较，直到栈为空或者栈顶元素也向左运动；若小于栈顶星球质量，当前星球消失，不再处理，继续遍历下一个星球；若两者质量相等，自右向左运动的当前星球消失，栈顶星球保持不变，继续遍历下一个星球。\n",
    "\n",
    "##### 时间复杂度：\n",
    "每个元素只会入栈一次，出栈一次，所以平均时间复杂度为O(n)\n",
    "\n",
    "##### code："
   ]
  },
  {
   "cell_type": "code",
   "execution_count": 22,
   "metadata": {},
   "outputs": [
    {
     "name": "stdout",
     "output_type": "stream",
     "text": [
      "[-3, -6, 2, 8, 9, 1]\n",
      "[23, 22]\n"
     ]
    }
   ],
   "source": [
    "def planet_collision(arr):\n",
    "    stack = []\n",
    "    for num in arr:\n",
    "        if not stack:\n",
    "            stack.append(num)\n",
    "        elif num * stack[-1] > 0 or (num > 0 and stack[-1] < 0):\n",
    "            stack.append(num)\n",
    "        elif num < 0 and stack[-1] > 0:\n",
    "            while (stack and abs(num) > stack[-1] and stack[-1]>0):\n",
    "                    stack.pop()\n",
    "            if not stack or stack[-1]<0:\n",
    "                stack.append(num)\n",
    "    return stack\n",
    "\n",
    "\n",
    "print(planet_collision([-3, -6, 2, 8, 5, -8, 9, -2, 1]))\n",
    "print(planet_collision([23, -8, 9, -3, -7, 9, -23, 22]))"
   ]
  },
  {
   "cell_type": "markdown",
   "metadata": {},
   "source": [
    "## 问题 5 \n",
    "\n",
    "> 给定一个无序数组nums=[9,-3,-10,0,9,7,33]，请建立一个二叉搜索树存储数组中的所有元素，之后删除二叉树中的元素“0”，再使用中序遍历输出二叉搜索树中的所有元素。\n",
    "\n",
    "使用python编程完成上述任务，并计算时间复杂度\n"
   ]
  },
  {
   "cell_type": "markdown",
   "metadata": {},
   "source": [
    "##### idea：\n",
    "\n",
    "（1）构建BST：将无序数组插入二叉搜索树\n",
    "\n",
    "（2）删除节点：删除指定值节点并保持BST性质\n",
    "\n",
    "（3）中序遍历：输出有序序列\n",
    "\n",
    "##### 时间复杂度：\n",
    "遍历数组n个元素，每次插入操作平均时间复杂度为O(logn)（树近似平衡时 ），最坏为O(n)，整体构建时间复杂度平均为O(nlogn)\n",
    "\n",
    "删除节点时，在树中查找要删除节点平均时间复杂度为O(logn)\n",
    "\n",
    "中序遍历时需要遍历树中所有n个节点，时间复杂度为O(n) \n",
    "\n",
    "所以个程序平均时间复杂度为O(nlogn)。\n",
    "\n",
    "##### code：\n"
   ]
  },
  {
   "cell_type": "code",
   "execution_count": 23,
   "metadata": {},
   "outputs": [
    {
     "name": "stdout",
     "output_type": "stream",
     "text": [
      "中序遍历结果: [-10, -3, 7, 9, 9, 33]\n"
     ]
    }
   ],
   "source": [
    "# 代码参考deepseek模型\n",
    "class TreeNode:\n",
    "    def __init__(self, val=0, left=None, right=None):\n",
    "        self.val = val\n",
    "        self.left = left\n",
    "        self.right = right\n",
    "\n",
    "class BST:\n",
    "    def __init__(self):\n",
    "        self.root = None\n",
    "    \n",
    "    def insert(self, val):\n",
    "        if not self.root:\n",
    "            self.root = TreeNode(val)\n",
    "            return\n",
    "        \n",
    "        current = self.root\n",
    "        while True:\n",
    "            if val < current.val:\n",
    "                if not current.left:\n",
    "                    current.left = TreeNode(val)\n",
    "                    break\n",
    "                current = current.left\n",
    "            else:\n",
    "                if not current.right:\n",
    "                    current.right = TreeNode(val)\n",
    "                    break\n",
    "                current = current.right\n",
    "    \n",
    "    def delete(self, key):\n",
    "        self.root = self._delete_node(self.root, key)\n",
    "    \n",
    "    def _delete_node(self, node, key):\n",
    "        if not node:\n",
    "            return None\n",
    "        \n",
    "        if key < node.val:\n",
    "            node.left = self._delete_node(node.left, key)\n",
    "        elif key > node.val:\n",
    "            node.right = self._delete_node(node.right, key)\n",
    "        else:\n",
    "            # 找到要删除的节点\n",
    "            if not node.left:\n",
    "                return node.right\n",
    "            elif not node.right:\n",
    "                return node.left\n",
    "            else:\n",
    "                # 有两个子节点，找右子树的最小值\n",
    "                temp = self._find_min(node.right)\n",
    "                node.val = temp.val\n",
    "                node.right = self._delete_node(node.right, temp.val)\n",
    "        return node\n",
    "    \n",
    "    def _find_min(self, node):\n",
    "        while node.left:\n",
    "            node = node.left\n",
    "        return node\n",
    "    \n",
    "    def inorder(self):\n",
    "        result = []\n",
    "        self._inorder_traversal(self.root, result)\n",
    "        return result\n",
    "    \n",
    "    def _inorder_traversal(self, node, result):\n",
    "        if node:\n",
    "            self._inorder_traversal(node.left, result)\n",
    "            result.append(node.val)\n",
    "            self._inorder_traversal(node.right, result)\n",
    "\n",
    "# 主程序\n",
    "nums = [9, -3, -10, 0, 9, 7, 33]\n",
    "bst = BST()\n",
    "\n",
    "# 构建BST\n",
    "for num in nums:\n",
    "    bst.insert(num)\n",
    "\n",
    "# 删除节点0\n",
    "bst.delete(0)\n",
    "\n",
    "# 中序遍历输出\n",
    "print(\"中序遍历结果:\", bst.inorder())"
   ]
  },
  {
   "cell_type": "markdown",
   "metadata": {},
   "source": [
    "## 问题 6  \n",
    "\n",
    "> 给定一个包含大写字母和小写字母的字符串 s ，返回 字符串包含的 **最长的回文子串的长度** 。请注意 区分大小写 。比如 \"Aa\" 不能当做一个回文字符串。\n",
    ">\n",
    "\n",
    "请设计一个算法解决上述问题，只需要输出最长回文子串的长度，分析算法设计思路，计算时间复杂度，并基于python编程实现\n",
    "\n",
    "e.g. 输入： s=\"adccaccd\"，  输出：7。 最长回文子串为：\"dccaccd\", 长度为7\n"
   ]
  },
  {
   "cell_type": "markdown",
   "metadata": {},
   "source": [
    "##### idea：\n",
    "本题可采用中心扩展法来解决。回文串的特点是从中心向两边字符对称，所以我们可以遍历字符串的每个字符，将其作为回文串的中心，向两边扩展来寻找回文串。\n",
    "（1）遍历字符串中的每个字符作为中心点\n",
    "\n",
    "（2）向左右两边扩展，检查是否为回文\n",
    "\n",
    "（3）区分奇数和偶数长度的回文情况\n",
    "\n",
    "（4）记录遇到的最大长度\n",
    "\n",
    "##### 时间复杂度：\n",
    "我们需要遍历字符串中的每个字符，时间复杂度为O(n)，对于每个字符，扩展的次数最多为n，所以总的时间复杂度为O(n^2)。\n",
    "\n",
    "##### code:\n"
   ]
  },
  {
   "cell_type": "code",
   "execution_count": 24,
   "metadata": {},
   "outputs": [
    {
     "name": "stdout",
     "output_type": "stream",
     "text": [
      "7\n"
     ]
    }
   ],
   "source": [
    "# 代码参考deepseek模型\n",
    "def longestPalindrome(s: str) -> int:\n",
    "    if not s:\n",
    "        return 0\n",
    "    \n",
    "    start = 0\n",
    "    end = 0\n",
    "    \n",
    "    def expandAroundCenter(left, right):\n",
    "        while left >= 0 and right < len(s) and s[left] == s[right]:\n",
    "            left -= 1\n",
    "            right += 1\n",
    "        return right - left - 1  # 返回长度\n",
    "    \n",
    "    max_len = 1\n",
    "    for i in range(len(s)):\n",
    "        len1 = expandAroundCenter(i, i)  # 奇数长度\n",
    "        len2 = expandAroundCenter(i, i+1)  # 偶数长度\n",
    "        max_len = max(max_len, len1, len2)\n",
    "    \n",
    "    return max_len\n",
    "\n",
    "# 测试用例\n",
    "print(longestPalindrome(\"adccaccd\"))  # 输出：7\n"
   ]
  },
  {
   "cell_type": "markdown",
   "metadata": {},
   "source": [
    "## 问题 7 \n",
    "\n",
    "> 沿一条长河流分散着n座房子。你可以把这条河想象成一条轴，房子是由它们在这条轴上的坐标按顺序排列的。你的公司想在河边的特定地点设置手机基站，这样每户人家都在距离基站4公里的范围内。输入可以看作为一个升序数组，数组元素的取值为大于等于0的正整数，你需要输出最小基站的数目，基站的位置。\n",
    "\n",
    "1. 给出一个时间复杂度为$O(n$) 的算法，使所使用的基站数量最小化，分析算法设计思路，使用python编程实现\n",
    "2. 证明1.中算法产生了最优解决方案。\n",
    "\n",
    "e.g. \n",
    "\n",
    "输入： [1, 5, 12, 33, 34,35]  输出：基站数目为3， 基站位置为[1，12，33]\n",
    "\n"
   ]
  },
  {
   "cell_type": "markdown",
   "metadata": {},
   "source": [
    "###### idea：\n",
    "从左到右遍历房子坐标数组。首先在第一个房子位置放置一个基站，然后继续遍历后续房子。对于每个房子，判断它是否在已放置基站的覆盖范围内（距离基站 4 公里内 ）。如果不在覆盖范围内，就在该房子位置放置一个新基站，并更新当前基站的覆盖范围。这样能保证在满足所有房子都被覆盖的前提下，使用最少数量的基站。\n",
    "\n",
    "###### 证明：\n",
    "\n",
    " 要证明该贪心算法产生最优解，可以从贪心选择性质和最优子结构两方面进行论证：首先，每次选择距离当前最左未覆盖房屋4公里的位置设置基站，确保了该基站能覆盖尽可能多的后续房屋（贪心选择性质）；其次，剩余未覆盖的房屋构成子问题，其最优解与已做出的选择组合后仍保持全局最优（最优子结构）。通过数学归纳法可严格证明——对于任意规模的问题，算法总能找到使用最少基站的部署方案，因为任何不同于贪心策略的选择要么导致覆盖不全，要么需要更多基站，因此该算法得到的解必定是最优的。\n",
    " \n",
    "##### code："
   ]
  },
  {
   "cell_type": "code",
   "execution_count": 25,
   "metadata": {},
   "outputs": [
    {
     "name": "stdout",
     "output_type": "stream",
     "text": [
      "基站数目为3，基站位置为[1, 12, 33]\n"
     ]
    }
   ],
   "source": [
    "# 代码参考deepseek模型\n",
    "def min_base_stations(houses):\n",
    "    if not houses:\n",
    "        return 0, []\n",
    "    base_stations = [houses[0]]\n",
    "    coverage = houses[0] + 4\n",
    "    for house in houses[1:]:\n",
    "        if house > coverage:\n",
    "            base_stations.append(house)\n",
    "            coverage = house + 4\n",
    "    return len(base_stations), base_stations\n",
    "\n",
    "# 示例调用\n",
    "houses = [1, 5, 12, 33, 34, 35]\n",
    "num_stations, stations = min_base_stations(houses)\n",
    "print(f\"基站数目为{num_stations}，基站位置为{stations}\")"
   ]
  },
  {
   "cell_type": "markdown",
   "metadata": {},
   "source": [
    "## 问题 8  \n",
    "\n",
    "> 给定由n个正整数组成的一个集合$S = \\{a_1, a_2，···，a_n\\}$和一个正整数W，设计一个算法确定是否存在S的一个子集 $K \\subseteq S$, 使K中所有数之和为 $W$, 如果存在返回“True”，否则返回“False”\n",
    "\n",
    "请设计一个时间复杂度为$O(nW)$动态规划算法，解决上述问题，分析算法的设计思路，并且基于python编程实现（不需要输出子集）。\n",
    "\n",
    "e.g. \n",
    "\n",
    "输入：S = {1,4,7,3,5}， W = 11，输出：True。   因为K可以是{4,7}。\n",
    "\n"
   ]
  },
  {
   "cell_type": "markdown",
   "metadata": {},
   "source": [
    "###### idea：\n",
    "使用动态规划表dp[i][j]表示前i个元素能否组成和j：\n",
    "\n",
    "初始化dp[0][0] = True（空集和为0）\n",
    "\n",
    "状态转移函数：\n",
    "\n",
    "（1）不选当前元素：dp[i][j] = dp[i-1][j]\n",
    "\n",
    "（2）选当前元素（若j >= a_i）：dp[i][j] = dp[i-1][j] or dp[i-1][j-a_i]\n",
    "\n",
    "最终结果在dp[n][W]。"
   ]
  },
  {
   "cell_type": "code",
   "execution_count": 26,
   "metadata": {},
   "outputs": [
    {
     "name": "stdout",
     "output_type": "stream",
     "text": [
      "True\n"
     ]
    }
   ],
   "source": [
    "# 代码参考deepseek模型\n",
    "def subset_sum(S, W):\n",
    "    n = len(S)\n",
    "    dp = [[False]*(W+1) for _ in range(n+1)]\n",
    "    dp[0][0] = True  # 空集\n",
    "    \n",
    "    for i in range(1, n+1):\n",
    "        for j in range(W+1):\n",
    "            if j < S[i-1]:\n",
    "                dp[i][j] = dp[i-1][j]\n",
    "            else:\n",
    "                dp[i][j] = dp[i-1][j] or dp[i-1][j-S[i-1]]\n",
    "    \n",
    "    return dp[n][W]\n",
    "\n",
    "# 测试\n",
    "S = [1, 4, 7, 3, 5]\n",
    "W = 11\n",
    "print(subset_sum(S, W))  # 输出: True"
   ]
  },
  {
   "cell_type": "markdown",
   "metadata": {},
   "source": [
    "\n",
    "\n",
    "## 问题 9 \n",
    "\n",
    "> 给定一个n个物品的集合。物体的重量为$w_1, w_2，…、w_n$，物品的价值分别是$v_1、v_2、…v_n$。给你**两个**重量为 $c$ 的背包。如果你带了一个东西，它可以放在一个背包里，也可以放在另一个背包里，但不能同时放在两个背包里。所有权重和价值都是正整数。\n",
    "\n",
    "1. 设计一个时间复杂度为 $O(nc^2)$ 的动态规划算法，确定可以放入两个背包的物体的最大价值。分析算法设计思路，并基于python编程实现\n",
    "2. \\* 修改1中的算法，输出每个背包的内容（物品对应下标）。\n",
    "\n",
    "e.g.: \n",
    "\n",
    "输入 V=[1,3,2,5,8,7], W=[1,3,2,5,8,7], c=7, 输出：最大价值=14，背包装的物品为：[6] [4，3] （同一个背包中物品装入顺序对结果无影响）  \n"
   ]
  },
  {
   "cell_type": "markdown",
   "metadata": {},
   "source": [
    "#### 1.\n",
    "##### idea：\n",
    "使用三维DP表dp[i][j][k]表示考虑前i个物品时，背包1容量j、背包2容量k时的最大价值，初始化：dp[0][0][0] = 0\n",
    "\n",
    "状态转移函数：\n",
    "\n",
    "（1）不选当前物品：dp[i][j][k] = dp[i-1][j][k]\n",
    "\n",
    "（2）放入背包1（若j >= w_i）：dp[i][j][k] = max(dp[i][j][k], dp[i-1][j-w_i][k] + v_i)\n",
    "\n",
    "（3）放入背包2（若k >= w_i）：dp[i][j][k] = max(dp[i][j][k], dp[i-1][j][k-w_i] + v_i)\n",
    "\n",
    "##### code："
   ]
  },
  {
   "cell_type": "code",
   "execution_count": 27,
   "metadata": {},
   "outputs": [
    {
     "name": "stdout",
     "output_type": "stream",
     "text": [
      "14\n"
     ]
    }
   ],
   "source": [
    "# 代码参考deepseek模型\n",
    "def max_value_two_knapsacks(V, W, c):\n",
    "    n = len(V)\n",
    "    # 初始化dp表\n",
    "    dp = [[[0 for _ in range(c + 1)] for _ in range(c + 1)] for _ in range(n + 1)]\n",
    "    \n",
    "    # 填充dp表\n",
    "    for i in range(1, n + 1):\n",
    "        for j in range(c + 1):\n",
    "            for k in range(c + 1):\n",
    "                dp[i][j][k] = dp[i-1][j][k]  # 不选择第i个物品\n",
    "                if j >= W[i-1]:\n",
    "                    dp[i][j][k] = max(dp[i][j][k], dp[i-1][j-W[i-1]][k] + V[i-1])  # 放入第一个背包\n",
    "                if k >= W[i-1]:\n",
    "                    dp[i][j][k] = max(dp[i][j][k], dp[i-1][j][k-W[i-1]] + V[i-1])  # 放入第二个背包\n",
    "    \n",
    "    return dp[n][c][c]\n",
    "# 测试\n",
    "V = [1, 3, 2, 5, 8, 7]\n",
    "W = [1, 3, 2, 5, 8, 7]\n",
    "c = 7\n",
    "print(max_value_two_knapsacks(V, W, c))  # 输出：14"
   ]
  },
  {
   "cell_type": "markdown",
   "metadata": {},
   "source": [
    "#### 2.\n",
    "\n",
    "为了输出每个背包的内容，可以通过一个额外的表 choice 来记录每个状态的选择。"
   ]
  },
  {
   "cell_type": "code",
   "execution_count": 28,
   "metadata": {},
   "outputs": [
    {
     "name": "stdout",
     "output_type": "stream",
     "text": [
      "最大价值=14, 背包装的物品为：[6] [4, 3]\n"
     ]
    }
   ],
   "source": [
    "def max_value_two_knapsacks_with_items(V, W, c):\n",
    "    n = len(V)\n",
    "    # 初始化dp表和choice表\n",
    "    dp = [[[0 for _ in range(c + 1)] for _ in range(c + 1)] for _ in range(n + 1)]\n",
    "    choice = [[[None for _ in range(c + 1)] for _ in range(c + 1)] for _ in range(n + 1)]\n",
    "    \n",
    "    # 填充dp表和choice表\n",
    "    for i in range(1, n + 1):\n",
    "        for j in range(c + 1):\n",
    "            for k in range(c + 1):\n",
    "                dp[i][j][k] = dp[i-1][j][k]\n",
    "                choice[i][j][k] = (i-1, j, k)\n",
    "                if j >= W[i-1] and dp[i-1][j-W[i-1]][k] + V[i-1] > dp[i][j][k]:\n",
    "                    dp[i][j][k] = dp[i-1][j-W[i-1]][k] + V[i-1]\n",
    "                    choice[i][j][k] = (i-1, j-W[i-1], k)\n",
    "                if k >= W[i-1] and dp[i-1][j][k-W[i-1]] + V[i-1] > dp[i][j][k]:\n",
    "                    dp[i][j][k] = dp[i-1][j][k-W[i-1]] + V[i-1]\n",
    "                    choice[i][j][k] = (i-1, j, k-W[i-1])\n",
    "                    \n",
    " # 回溯找到每个背包的内容\n",
    "    items = [[], []]\n",
    "    i, j, k = n, c, c\n",
    "    while i > 0:\n",
    "        prev_i, prev_j, prev_k = choice[i][j][k]\n",
    "        if prev_j != j:\n",
    "            items[0].append(i)\n",
    "        elif prev_k != k:\n",
    "            items[1].append(i)\n",
    "        i, j, k = prev_i, prev_j, prev_k\n",
    "    \n",
    "    return dp[n][c][c], items\n",
    "\n",
    "# 测试\n",
    "V = [1, 3, 2, 5, 8, 7]\n",
    "W = [1, 3, 2, 5, 8, 7]\n",
    "c = 7\n",
    "max_value, items = max_value_two_knapsacks_with_items(V, W, c)\n",
    "print(f\"最大价值={max_value}, 背包装的物品为：{items[0]} {items[1]}\")"
   ]
  },
  {
   "cell_type": "markdown",
   "metadata": {},
   "source": [
    "## 问题 10 \n",
    "\n",
    "> 给定两个字符串 $x[1..n]$ 和 $y[1..m]$，我们想通过以下操作将 $x$ 变换为 $y$ :\n",
    ">\n",
    "> **插入**：在 $x$ 中插入一个字符(在任何位置)；**删除**：从 $x$ 中删除一个字符(在任何位置)； **替换**：用另一个字符替换 $x$ 中的一个字符。\n",
    ">\n",
    "> 例如: $x = abcd$, $y = bcfe$，\n",
    ">\n",
    "> - 将 $x$ 转换为 $y$ 的一种可能方法是：1. 删除 $x$ 开头的 $a$, $x$变成 $bcd$； 2. 将 $x$ 中的字符 $d$ 替换为字符 $f$。$x$ 变成 $bcf$； 3. 在 $x$ 的末尾插入字符 $e$。$x$ 变成 $bcfe$。\n",
    ">\n",
    "> - 另一种可能的方法：1. 删除 $x$ 开头的 $a$,  $x$ 变成 $bcd$； 2. 在 $x$ 中字符 $d$ 之前插入字符 $f$。$x$ 变成 $bcfd$。3. 将 $x$ 中的字符 $d$ 替换为字符 $e$。$x$ 变成 $bcfe$。\n",
    "\n",
    "设计一个时间复杂度为 $O(mn)$ 的算法，返回将 $x$ 转换为 $y$ 所需的最少操作次数。分析算法设计思路，并基于python编程实现。\n"
   ]
  },
  {
   "cell_type": "markdown",
   "metadata": {},
   "source": [
    "##### idea：\n",
    "\n",
    "使用二维DP表dp[i][j]表示将x[0..i-1]转换为y[0..j-1]的最小操作次数：\n",
    "\n",
    "初始化：dp[0][j] = j（全插入）；dp[i][0] = i（全删除）\n",
    "\n",
    "状态转移函数：\n",
    "\n",
    "若x[i-1] == y[j-1]：dp[i][j] = dp[i-1][j-1]（无需操作）\n",
    "\n",
    "否则：dp[i][j] = 1 + min(dp[i-1][j], dp[i][j-1], dp[i-1][j-1])\n",
    "\n",
    "dp[i-1][j]：删除x[i]\n",
    "\n",
    "dp[i][j-1]：插入y[j]\n",
    "\n",
    "dp[i-1][j-1]：替换x[i]为y[j]"
   ]
  },
  {
   "cell_type": "code",
   "execution_count": 29,
   "metadata": {},
   "outputs": [
    {
     "name": "stdout",
     "output_type": "stream",
     "text": [
      "3\n"
     ]
    }
   ],
   "source": [
    "# 代码参考deepseek模型\n",
    "def edit_distance(x, y):\n",
    "    m, n = len(x), len(y)\n",
    "    dp = [[0]*(n+1) for _ in range(m+1)]\n",
    "    \n",
    "    # 初始化边界条件\n",
    "    for i in range(m+1):\n",
    "        dp[i][0] = i\n",
    "    for j in range(n+1):\n",
    "        dp[0][j] = j\n",
    "    \n",
    "    # 填表\n",
    "    for i in range(1, m+1):\n",
    "        for j in range(1, n+1):\n",
    "            if x[i-1] == y[j-1]:\n",
    "                dp[i][j] = dp[i-1][j-1]\n",
    "            else:\n",
    "                dp[i][j] = 1 + min(dp[i-1][j],    # 删除\n",
    "                                 dp[i][j-1],    # 插入\n",
    "                                 dp[i-1][j-1])  # 替换\n",
    "    \n",
    "    return dp[m][n]\n",
    "\n",
    "# 测试\n",
    "x = \"abcd\"\n",
    "y = \"bcfe\"\n",
    "print(edit_distance(x, y))  # 输出：3"
   ]
  }
 ],
 "metadata": {
  "kernelspec": {
   "display_name": "Python 3",
   "language": "python",
   "name": "python3"
  },
  "language_info": {
   "codemirror_mode": {
    "name": "ipython",
    "version": 3
   },
   "file_extension": ".py",
   "mimetype": "text/x-python",
   "name": "python",
   "nbconvert_exporter": "python",
   "pygments_lexer": "ipython3",
   "version": "3.7.0"
  }
 },
 "nbformat": 4,
 "nbformat_minor": 2
}
